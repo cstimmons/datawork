{
  "nbformat": 4,
  "nbformat_minor": 0,
  "metadata": {
    "colab": {
      "name": "Admission_prediction_with_pyspark_ml.ipynb",
      "provenance": [],
      "include_colab_link": true
    },
    "kernelspec": {
      "name": "python3",
      "display_name": "Python 3"
    }
  },
  "cells": [
    {
      "cell_type": "markdown",
      "metadata": {
        "id": "view-in-github",
        "colab_type": "text"
      },
      "source": [
        "<a href=\"https://colab.research.google.com/github/cstimmons/datawork/blob/main/Admission_prediction_with_pyspark_ml.ipynb\" target=\"_parent\"><img src=\"https://colab.research.google.com/assets/colab-badge.svg\" alt=\"Open In Colab\"/></a>"
      ]
    },
    {
      "cell_type": "markdown",
      "metadata": {
        "id": "rZtskxrQyg3e"
      },
      "source": [
        "# TASK 1 : Install Dependencies & Run a SparkSession\n"
      ]
    },
    {
      "cell_type": "code",
      "metadata": {
        "id": "a9huiQF8yfIK",
        "colab": {
          "base_uri": "https://localhost:8080/"
        },
        "outputId": "47891916-033f-4c0e-e92e-40b743c1938a"
      },
      "source": [
        "pip install pyspark"
      ],
      "execution_count": 1,
      "outputs": [
        {
          "output_type": "stream",
          "name": "stdout",
          "text": [
            "Looking in indexes: https://pypi.org/simple, https://us-python.pkg.dev/colab-wheels/public/simple/\n",
            "Collecting pyspark\n",
            "  Downloading pyspark-3.2.1.tar.gz (281.4 MB)\n",
            "\u001b[K     |████████████████████████████████| 281.4 MB 38 kB/s \n",
            "\u001b[?25hCollecting py4j==0.10.9.3\n",
            "  Downloading py4j-0.10.9.3-py2.py3-none-any.whl (198 kB)\n",
            "\u001b[K     |████████████████████████████████| 198 kB 58.5 MB/s \n",
            "\u001b[?25hBuilding wheels for collected packages: pyspark\n",
            "  Building wheel for pyspark (setup.py) ... \u001b[?25l\u001b[?25hdone\n",
            "  Created wheel for pyspark: filename=pyspark-3.2.1-py2.py3-none-any.whl size=281853642 sha256=d8bb778ba8f904678b4e277854ddf532e3cd237b6b1625df8f054980b3a7fa4d\n",
            "  Stored in directory: /root/.cache/pip/wheels/9f/f5/07/7cd8017084dce4e93e84e92efd1e1d5334db05f2e83bcef74f\n",
            "Successfully built pyspark\n",
            "Installing collected packages: py4j, pyspark\n",
            "Successfully installed py4j-0.10.9.3 pyspark-3.2.1\n"
          ]
        }
      ]
    },
    {
      "cell_type": "code",
      "metadata": {
        "id": "1wZpO2gxy7Pt"
      },
      "source": [
        "from pyspark.sql import SparkSession\n",
        "spark = SparkSession.builder.appName('spark').getOrCreate()"
      ],
      "execution_count": 3,
      "outputs": []
    },
    {
      "cell_type": "markdown",
      "metadata": {
        "id": "8t7JFc_My__A"
      },
      "source": [
        "# TASK 2 : Clone & Explore dataset"
      ]
    },
    {
      "cell_type": "code",
      "metadata": {
        "id": "C0oRpI4ezFgc",
        "colab": {
          "base_uri": "https://localhost:8080/"
        },
        "outputId": "1b573bbe-4d1b-4ae1-dc35-25363ee3bdbf"
      },
      "source": [
        "#clone the dataset\n",
        "! git clone https://github.com/education454/admission_dataset"
      ],
      "execution_count": 4,
      "outputs": [
        {
          "output_type": "stream",
          "name": "stdout",
          "text": [
            "Cloning into 'admission_dataset'...\n",
            "remote: Enumerating objects: 3, done.\u001b[K\n",
            "remote: Counting objects: 100% (3/3), done.\u001b[K\n",
            "remote: Compressing objects: 100% (3/3), done.\u001b[K\n",
            "remote: Total 3 (delta 0), reused 0 (delta 0), pack-reused 0\u001b[K\n",
            "Unpacking objects: 100% (3/3), done.\n"
          ]
        }
      ]
    },
    {
      "cell_type": "code",
      "metadata": {
        "id": "Evfd9ACizers",
        "colab": {
          "base_uri": "https://localhost:8080/"
        },
        "outputId": "33afd019-7dc2-4c98-8caf-914cb3211d93"
      },
      "source": [
        "#check the presence of dataset\n",
        "! ls admission_dataset"
      ],
      "execution_count": 5,
      "outputs": [
        {
          "output_type": "stream",
          "name": "stdout",
          "text": [
            "Admission_Predict_Ver1.1.csv\n"
          ]
        }
      ]
    },
    {
      "cell_type": "code",
      "metadata": {
        "id": "q6sF2NVazjtU"
      },
      "source": [
        "#create a spark dataframe\n",
        "df = spark.read.csv(\"/content/admission_dataset/Admission_Predict_Ver1.1.csv\", header=True, inferSchema=True)\n"
      ],
      "execution_count": 7,
      "outputs": []
    },
    {
      "cell_type": "code",
      "metadata": {
        "id": "cG6UhIUuznfJ",
        "colab": {
          "base_uri": "https://localhost:8080/"
        },
        "outputId": "04011562-f5cb-4ab9-fef5-8190074e3a62"
      },
      "source": [
        "#display dataframe\n",
        "df.show()"
      ],
      "execution_count": 8,
      "outputs": [
        {
          "output_type": "stream",
          "name": "stdout",
          "text": [
            "+---------+---------+-----------+-----------------+---+---+----+--------+---------------+\n",
            "|Serial No|GRE Score|TOEFL Score|University Rating|SOP|LOR|CGPA|Research|Chance of Admit|\n",
            "+---------+---------+-----------+-----------------+---+---+----+--------+---------------+\n",
            "|        1|      337|        118|                4|4.5|4.5|9.65|       1|           0.92|\n",
            "|        2|      324|        107|                4|4.0|4.5|8.87|       1|           0.76|\n",
            "|        3|      316|        104|                3|3.0|3.5| 8.0|       1|           0.72|\n",
            "|        4|      322|        110|                3|3.5|2.5|8.67|       1|            0.8|\n",
            "|        5|      314|        103|                2|2.0|3.0|8.21|       0|           0.65|\n",
            "|        6|      330|        115|                5|4.5|3.0|9.34|       1|            0.9|\n",
            "|        7|      321|        109|                3|3.0|4.0| 8.2|       1|           0.75|\n",
            "|        8|      308|        101|                2|3.0|4.0| 7.9|       0|           0.68|\n",
            "|        9|      302|        102|                1|2.0|1.5| 8.0|       0|            0.5|\n",
            "|       10|      323|        108|                3|3.5|3.0| 8.6|       0|           0.45|\n",
            "|       11|      325|        106|                3|3.5|4.0| 8.4|       1|           0.52|\n",
            "|       12|      327|        111|                4|4.0|4.5| 9.0|       1|           0.84|\n",
            "|       13|      328|        112|                4|4.0|4.5| 9.1|       1|           0.78|\n",
            "|       14|      307|        109|                3|4.0|3.0| 8.0|       1|           0.62|\n",
            "|       15|      311|        104|                3|3.5|2.0| 8.2|       1|           0.61|\n",
            "|       16|      314|        105|                3|3.5|2.5| 8.3|       0|           0.54|\n",
            "|       17|      317|        107|                3|4.0|3.0| 8.7|       0|           0.66|\n",
            "|       18|      319|        106|                3|4.0|3.0| 8.0|       1|           0.65|\n",
            "|       19|      318|        110|                3|4.0|3.0| 8.8|       0|           0.63|\n",
            "|       20|      303|        102|                3|3.5|3.0| 8.5|       0|           0.62|\n",
            "+---------+---------+-----------+-----------------+---+---+----+--------+---------------+\n",
            "only showing top 20 rows\n",
            "\n"
          ]
        }
      ]
    },
    {
      "cell_type": "code",
      "metadata": {
        "id": "tgtWocArzqVR",
        "colab": {
          "base_uri": "https://localhost:8080/"
        },
        "outputId": "dddfff75-b3ad-4d34-dbe3-0b92d7f69645"
      },
      "source": [
        "#get the no.of rows & columns\n",
        "print(df.count(),len(df.columns))"
      ],
      "execution_count": 13,
      "outputs": [
        {
          "output_type": "stream",
          "name": "stdout",
          "text": [
            "500 9\n"
          ]
        }
      ]
    },
    {
      "cell_type": "code",
      "metadata": {
        "id": "OWQTe006zt7O",
        "colab": {
          "base_uri": "https://localhost:8080/"
        },
        "outputId": "f451d432-63f6-47aa-a758-fe9151416885"
      },
      "source": [
        "#print schema \n",
        "df.printSchema()"
      ],
      "execution_count": 14,
      "outputs": [
        {
          "output_type": "stream",
          "name": "stdout",
          "text": [
            "root\n",
            " |-- Serial No: integer (nullable = true)\n",
            " |-- GRE Score: integer (nullable = true)\n",
            " |-- TOEFL Score: integer (nullable = true)\n",
            " |-- University Rating: integer (nullable = true)\n",
            " |-- SOP: double (nullable = true)\n",
            " |-- LOR: double (nullable = true)\n",
            " |-- CGPA: double (nullable = true)\n",
            " |-- Research: integer (nullable = true)\n",
            " |-- Chance of Admit: double (nullable = true)\n",
            "\n"
          ]
        }
      ]
    },
    {
      "cell_type": "code",
      "metadata": {
        "id": "locEx8HDz264",
        "colab": {
          "base_uri": "https://localhost:8080/"
        },
        "outputId": "ba32c07e-aec0-4b63-db32-24ec07599ecf"
      },
      "source": [
        "#get the summary statistics\n",
        "df.describe().show()"
      ],
      "execution_count": 15,
      "outputs": [
        {
          "output_type": "stream",
          "name": "stdout",
          "text": [
            "+-------+-----------------+------------------+-----------------+-----------------+------------------+------------------+------------------+------------------+-------------------+\n",
            "|summary|        Serial No|         GRE Score|      TOEFL Score|University Rating|               SOP|               LOR|              CGPA|          Research|    Chance of Admit|\n",
            "+-------+-----------------+------------------+-----------------+-----------------+------------------+------------------+------------------+------------------+-------------------+\n",
            "|  count|              500|               500|              500|              500|               500|               500|               500|               500|                500|\n",
            "|   mean|            250.5|           316.472|          107.192|            3.114|             3.374|             3.484| 8.576440000000003|              0.56| 0.7217399999999996|\n",
            "| stddev|144.4818327679989|11.295148372354712|6.081867659564538|1.143511800759815|0.9910036207566072|0.9254495738978191|0.6048128003332054|0.4968840786090358|0.14114040395030228|\n",
            "|    min|                1|               290|               92|                1|               1.0|               1.0|               6.8|                 0|               0.34|\n",
            "|    max|              500|               340|              120|                5|               5.0|               5.0|              9.92|                 1|               0.97|\n",
            "+-------+-----------------+------------------+-----------------+-----------------+------------------+------------------+------------------+------------------+-------------------+\n",
            "\n"
          ]
        }
      ]
    },
    {
      "cell_type": "markdown",
      "metadata": {
        "id": "6uDdoEKsz6h6"
      },
      "source": [
        "# TASK 3 : Data Cleaning"
      ]
    },
    {
      "cell_type": "code",
      "metadata": {
        "id": "o6gJAFo30G9s"
      },
      "source": [
        "#drop the unnecessary column\n",
        "df = df.drop('Serial No')\n"
      ],
      "execution_count": 18,
      "outputs": []
    },
    {
      "cell_type": "code",
      "metadata": {
        "id": "_lOPoDVk0OFH",
        "colab": {
          "base_uri": "https://localhost:8080/"
        },
        "outputId": "bc91d5b0-80c4-4a19-c82f-e39b059921ba"
      },
      "source": [
        "#display the dataframe\n",
        "df.show()"
      ],
      "execution_count": 19,
      "outputs": [
        {
          "output_type": "stream",
          "name": "stdout",
          "text": [
            "+---------+-----------+-----------------+---+---+----+--------+---------------+\n",
            "|GRE Score|TOEFL Score|University Rating|SOP|LOR|CGPA|Research|Chance of Admit|\n",
            "+---------+-----------+-----------------+---+---+----+--------+---------------+\n",
            "|      337|        118|                4|4.5|4.5|9.65|       1|           0.92|\n",
            "|      324|        107|                4|4.0|4.5|8.87|       1|           0.76|\n",
            "|      316|        104|                3|3.0|3.5| 8.0|       1|           0.72|\n",
            "|      322|        110|                3|3.5|2.5|8.67|       1|            0.8|\n",
            "|      314|        103|                2|2.0|3.0|8.21|       0|           0.65|\n",
            "|      330|        115|                5|4.5|3.0|9.34|       1|            0.9|\n",
            "|      321|        109|                3|3.0|4.0| 8.2|       1|           0.75|\n",
            "|      308|        101|                2|3.0|4.0| 7.9|       0|           0.68|\n",
            "|      302|        102|                1|2.0|1.5| 8.0|       0|            0.5|\n",
            "|      323|        108|                3|3.5|3.0| 8.6|       0|           0.45|\n",
            "|      325|        106|                3|3.5|4.0| 8.4|       1|           0.52|\n",
            "|      327|        111|                4|4.0|4.5| 9.0|       1|           0.84|\n",
            "|      328|        112|                4|4.0|4.5| 9.1|       1|           0.78|\n",
            "|      307|        109|                3|4.0|3.0| 8.0|       1|           0.62|\n",
            "|      311|        104|                3|3.5|2.0| 8.2|       1|           0.61|\n",
            "|      314|        105|                3|3.5|2.5| 8.3|       0|           0.54|\n",
            "|      317|        107|                3|4.0|3.0| 8.7|       0|           0.66|\n",
            "|      319|        106|                3|4.0|3.0| 8.0|       1|           0.65|\n",
            "|      318|        110|                3|4.0|3.0| 8.8|       0|           0.63|\n",
            "|      303|        102|                3|3.5|3.0| 8.5|       0|           0.62|\n",
            "+---------+-----------+-----------------+---+---+----+--------+---------------+\n",
            "only showing top 20 rows\n",
            "\n"
          ]
        }
      ]
    },
    {
      "cell_type": "code",
      "metadata": {
        "id": "Au73oUZJ0Qv7",
        "colab": {
          "base_uri": "https://localhost:8080/"
        },
        "outputId": "af1977f4-5c10-4186-9834-a72f6bfeeca2"
      },
      "source": [
        "#check for null values\n",
        "for i in df.columns:\n",
        "  print(i+\":\",df[df[i].isNull()].count())"
      ],
      "execution_count": 20,
      "outputs": [
        {
          "output_type": "stream",
          "name": "stdout",
          "text": [
            "GRE Score: 0\n",
            "TOEFL Score: 0\n",
            "University Rating: 0\n",
            "SOP: 0\n",
            "LOR: 0\n",
            "CGPA: 0\n",
            "Research: 0\n",
            "Chance of Admit: 0\n"
          ]
        }
      ]
    },
    {
      "cell_type": "markdown",
      "metadata": {
        "id": "prkDI9Dc0SoH"
      },
      "source": [
        "# TASK 4 : Correlation Analysis & Feature Selection"
      ]
    },
    {
      "cell_type": "code",
      "metadata": {
        "id": "eFhxSRRj0Ypa",
        "colab": {
          "base_uri": "https://localhost:8080/"
        },
        "outputId": "46a7e5ab-fa3a-40b8-cee6-341fbe34c9ef"
      },
      "source": [
        "# correlation analysis\n",
        "for col in df.columns:\n",
        "  print('correlation to chance of admission for {} is {}'.format(col,df.stat.corr('Chance of Admit',col)))"
      ],
      "execution_count": 21,
      "outputs": [
        {
          "output_type": "stream",
          "name": "stdout",
          "text": [
            "correlation to chance of admission for GRE Score is 0.8103506354632598\n",
            "correlation to chance of admission for TOEFL Score is 0.7922276143050823\n",
            "correlation to chance of admission for University Rating is 0.6901323687886892\n",
            "correlation to chance of admission for SOP is 0.6841365241316723\n",
            "correlation to chance of admission for LOR is 0.6453645135280112\n",
            "correlation to chance of admission for CGPA is 0.882412574904574\n",
            "correlation to chance of admission for Research is 0.5458710294711379\n",
            "correlation to chance of admission for Chance of Admit is 1.0\n"
          ]
        }
      ]
    },
    {
      "cell_type": "code",
      "metadata": {
        "id": "UXNOknvo0dV2"
      },
      "source": [
        "# feature selection\n",
        "from pyspark.ml.feature import VectorAssembler\n",
        "assembler = VectorAssembler(inputCols= ['GRE Score', 'TOEFL Score', 'CGPA'],outputCol='features')"
      ],
      "execution_count": 22,
      "outputs": []
    },
    {
      "cell_type": "code",
      "metadata": {
        "id": "JOzlkPaz0ibL",
        "colab": {
          "base_uri": "https://localhost:8080/"
        },
        "outputId": "29b962a1-0b3b-4395-daa1-08a7a7bff8ec"
      },
      "source": [
        "#display dataframe\n",
        "output_data = assembler.transform(df)\n",
        "output_data.show()"
      ],
      "execution_count": 24,
      "outputs": [
        {
          "output_type": "stream",
          "name": "stdout",
          "text": [
            "+---------+-----------+-----------------+---+---+----+--------+---------------+------------------+\n",
            "|GRE Score|TOEFL Score|University Rating|SOP|LOR|CGPA|Research|Chance of Admit|          features|\n",
            "+---------+-----------+-----------------+---+---+----+--------+---------------+------------------+\n",
            "|      337|        118|                4|4.5|4.5|9.65|       1|           0.92|[337.0,118.0,9.65]|\n",
            "|      324|        107|                4|4.0|4.5|8.87|       1|           0.76|[324.0,107.0,8.87]|\n",
            "|      316|        104|                3|3.0|3.5| 8.0|       1|           0.72| [316.0,104.0,8.0]|\n",
            "|      322|        110|                3|3.5|2.5|8.67|       1|            0.8|[322.0,110.0,8.67]|\n",
            "|      314|        103|                2|2.0|3.0|8.21|       0|           0.65|[314.0,103.0,8.21]|\n",
            "|      330|        115|                5|4.5|3.0|9.34|       1|            0.9|[330.0,115.0,9.34]|\n",
            "|      321|        109|                3|3.0|4.0| 8.2|       1|           0.75| [321.0,109.0,8.2]|\n",
            "|      308|        101|                2|3.0|4.0| 7.9|       0|           0.68| [308.0,101.0,7.9]|\n",
            "|      302|        102|                1|2.0|1.5| 8.0|       0|            0.5| [302.0,102.0,8.0]|\n",
            "|      323|        108|                3|3.5|3.0| 8.6|       0|           0.45| [323.0,108.0,8.6]|\n",
            "|      325|        106|                3|3.5|4.0| 8.4|       1|           0.52| [325.0,106.0,8.4]|\n",
            "|      327|        111|                4|4.0|4.5| 9.0|       1|           0.84| [327.0,111.0,9.0]|\n",
            "|      328|        112|                4|4.0|4.5| 9.1|       1|           0.78| [328.0,112.0,9.1]|\n",
            "|      307|        109|                3|4.0|3.0| 8.0|       1|           0.62| [307.0,109.0,8.0]|\n",
            "|      311|        104|                3|3.5|2.0| 8.2|       1|           0.61| [311.0,104.0,8.2]|\n",
            "|      314|        105|                3|3.5|2.5| 8.3|       0|           0.54| [314.0,105.0,8.3]|\n",
            "|      317|        107|                3|4.0|3.0| 8.7|       0|           0.66| [317.0,107.0,8.7]|\n",
            "|      319|        106|                3|4.0|3.0| 8.0|       1|           0.65| [319.0,106.0,8.0]|\n",
            "|      318|        110|                3|4.0|3.0| 8.8|       0|           0.63| [318.0,110.0,8.8]|\n",
            "|      303|        102|                3|3.5|3.0| 8.5|       0|           0.62| [303.0,102.0,8.5]|\n",
            "+---------+-----------+-----------------+---+---+----+--------+---------------+------------------+\n",
            "only showing top 20 rows\n",
            "\n"
          ]
        }
      ]
    },
    {
      "cell_type": "markdown",
      "metadata": {
        "id": "l6FucLAC0r5I"
      },
      "source": [
        "# TASK 5 : Build the Linear Regression Model"
      ]
    },
    {
      "cell_type": "code",
      "metadata": {
        "id": "RMYN_8jJ0wDR"
      },
      "source": [
        "#import Linearregression and create final data\n",
        "from pyspark.ml.regression import LinearRegression\n",
        "final_data = output_data.select('features', 'Chance of Admit')"
      ],
      "execution_count": 26,
      "outputs": []
    },
    {
      "cell_type": "code",
      "metadata": {
        "id": "MNSEfLCp09oO",
        "colab": {
          "base_uri": "https://localhost:8080/"
        },
        "outputId": "53f778d1-20d1-4015-8e7e-804bf739dce4"
      },
      "source": [
        "#print schema of final data\n",
        "final_data.printSchema()"
      ],
      "execution_count": 27,
      "outputs": [
        {
          "output_type": "stream",
          "name": "stdout",
          "text": [
            "root\n",
            " |-- features: vector (nullable = true)\n",
            " |-- Chance of Admit: double (nullable = true)\n",
            "\n"
          ]
        }
      ]
    },
    {
      "cell_type": "code",
      "metadata": {
        "id": "vOJylIiS1Dre"
      },
      "source": [
        "#split the dataset into training and testing set\n",
        "train, test = final_data.randomSplit([0.7,0.3])"
      ],
      "execution_count": 28,
      "outputs": []
    },
    {
      "cell_type": "code",
      "metadata": {
        "id": "xoxFzm4A1Hee"
      },
      "source": [
        "#build & train the model\n",
        "models = LinearRegression(featuresCol='features', labelCol='Chance of Admit')\n",
        "model = models.fit(train)"
      ],
      "execution_count": 29,
      "outputs": []
    },
    {
      "cell_type": "code",
      "metadata": {
        "id": "DDCZ9uvA1QLf",
        "colab": {
          "base_uri": "https://localhost:8080/"
        },
        "outputId": "1a2bfc49-4709-4149-8d83-227ee95f91db"
      },
      "source": [
        "#get coefficients & intercept\n",
        "print('coefficients:',model.coefficients)\n",
        "print('intercept:',model.intercept)"
      ],
      "execution_count": 32,
      "outputs": [
        {
          "output_type": "stream",
          "name": "stdout",
          "text": [
            "coefficients: [0.002176349408429626,0.004103976426315886,0.13583084822708397]\n",
            "intercept: -1.5730325381462007\n"
          ]
        }
      ]
    },
    {
      "cell_type": "code",
      "metadata": {
        "id": "bO6Duj1l1YJX"
      },
      "source": [
        "#get summary of the model\n",
        "summary = model.summary"
      ],
      "execution_count": 39,
      "outputs": []
    },
    {
      "cell_type": "code",
      "metadata": {
        "id": "ebi9LxFS1aBJ",
        "colab": {
          "base_uri": "https://localhost:8080/"
        },
        "outputId": "559c80e3-0896-4eed-bd23-1593f91d0b45"
      },
      "source": [
        "#print the rmse & r2 score\n",
        "print('RMSE',summary.rootMeanSquaredError)\n",
        "print('r2',summary.r2)"
      ],
      "execution_count": 40,
      "outputs": [
        {
          "output_type": "stream",
          "name": "stdout",
          "text": [
            "RMSE 0.060709001379881763\n",
            "r2 0.8045570442827726\n"
          ]
        }
      ]
    },
    {
      "cell_type": "markdown",
      "metadata": {
        "id": "b5lTskfK1eKV"
      },
      "source": [
        "# TASK 6 : Evaluate & Save the Model"
      ]
    },
    {
      "cell_type": "code",
      "metadata": {
        "id": "l0TAwvGP1noC"
      },
      "source": [
        "#transform on the test data\n",
        "predictions = model.transform(test)"
      ],
      "execution_count": 48,
      "outputs": []
    },
    {
      "cell_type": "code",
      "metadata": {
        "id": "T_DixZ6f1nvP",
        "colab": {
          "base_uri": "https://localhost:8080/"
        },
        "outputId": "986c2de1-dc18-4074-faf1-777307a46f6f"
      },
      "source": [
        "#display the predictions\n",
        "predictions.show(20)"
      ],
      "execution_count": 49,
      "outputs": [
        {
          "output_type": "stream",
          "name": "stdout",
          "text": [
            "+------------------+---------------+-------------------+\n",
            "|          features|Chance of Admit|         prediction|\n",
            "+------------------+---------------+-------------------+\n",
            "|[290.0,104.0,7.46]|           0.45| 0.4982204664092891|\n",
            "| [294.0,95.0,7.64]|           0.49|0.49443962888703985|\n",
            "|  [295.0,93.0,7.2]|           0.46| 0.4286424522229211|\n",
            "| [295.0,96.0,7.34]|           0.47| 0.4599707002536604|\n",
            "|[296.0,101.0,7.68]|            0.6|  0.528849420190878|\n",
            "| [297.0,96.0,7.89]|           0.43| 0.5390303655954158|\n",
            "| [297.0,98.0,7.67]|           0.59| 0.5173555318380891|\n",
            "|  [298.0,98.0,7.5]|           0.44| 0.4964406370479144|\n",
            "|  [298.0,99.0,7.6]|           0.46| 0.5141276982969385|\n",
            "|[298.0,100.0,7.95]|           0.58| 0.5657724716027339|\n",
            "| [299.0,94.0,7.34]|           0.42|0.46046814503474676|\n",
            "| [299.0,96.0,7.86]|           0.54| 0.5393081389654626|\n",
            "|[299.0,100.0,7.42]|           0.42|0.49595847145080874|\n",
            "|[299.0,100.0,7.89]|           0.59| 0.5597989701175383|\n",
            "| [300.0,95.0,8.22]|           0.62| 0.5862796173093263|\n",
            "| [300.0,98.0,8.02]|           0.61| 0.5714253769428572|\n",
            "|  [300.0,99.0,6.8]|           0.36| 0.4098157185321305|\n",
            "|[300.0,100.0,8.26]|           0.62| 0.6122327333699891|\n",
            "|[300.0,102.0,8.17]|           0.63| 0.6082159098821835|\n",
            "|[301.0,107.0,8.34]|           0.62| 0.6540033856207967|\n",
            "+------------------+---------------+-------------------+\n",
            "only showing top 20 rows\n",
            "\n"
          ]
        }
      ]
    },
    {
      "cell_type": "code",
      "metadata": {
        "id": "vzxDnudZ1n3n",
        "colab": {
          "base_uri": "https://localhost:8080/"
        },
        "outputId": "5e3be0d6-1330-4e34-b02c-823c389ab699"
      },
      "source": [
        "#evaluate the model \n",
        "from pyspark.ml.evaluation import RegressionEvaluator\n",
        "evalaluator = RegressionEvaluator(predictionCol= 'prediction',labelCol= 'Chance of Admit',metricName='r2')\n",
        "print('r2 on the test data',evalaluator.evaluate(predictions))"
      ],
      "execution_count": 51,
      "outputs": [
        {
          "output_type": "stream",
          "name": "stdout",
          "text": [
            "r2 on the test data 0.8020846570107139\n"
          ]
        }
      ]
    },
    {
      "cell_type": "code",
      "metadata": {
        "id": "WEeyiruX1n_I"
      },
      "source": [
        "#save the model\n",
        "model.save(\"model\")"
      ],
      "execution_count": 52,
      "outputs": []
    },
    {
      "cell_type": "code",
      "metadata": {
        "id": "PK48FYRd2CMJ"
      },
      "source": [
        "#load the model\n",
        "from pyspark.ml.regression import LinearRegressionModel\n",
        "model = LinearRegressionModel.load('model')"
      ],
      "execution_count": 53,
      "outputs": []
    }
  ]
}